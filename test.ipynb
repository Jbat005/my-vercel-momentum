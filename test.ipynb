{
 "cells": [
  {
   "cell_type": "code",
   "execution_count": 26,
   "metadata": {},
   "outputs": [],
   "source": [
    "import pandas as pd\n",
    "import yfinance as yf\n",
    "import numpy as np\n",
    "import warnings\n",
    "from datetime import datetime, timedelta\n",
    "import os\n",
    "from waitress import serve\n",
    "from flask_cors import CORS  \n",
    "from flask import Flask, jsonify, request, make_response"
   ]
  },
  {
   "cell_type": "code",
   "execution_count": 27,
   "metadata": {},
   "outputs": [
    {
     "name": "stderr",
     "output_type": "stream",
     "text": [
      "[*********************100%***********************]  30 of 30 completed\n"
     ]
    }
   ],
   "source": [
    "# Get date ranges\n",
    "end_date = datetime.today().strftime('%Y-%m-%d')\n",
    "start_date = (datetime.today() - timedelta(days=4 * 365 + 25)).strftime('%Y-%m-%d')\n",
    "\n",
    "# Top 30 S&P 500 stocks\n",
    "sp500_tickers = [\n",
    "    'NVDA', 'TSLA', 'AAPL', 'F', 'AMZN', 'AMD', 'PLTR', 'BAC', 'T', 'CCL',\n",
    "    'INTC', 'GOOGL', 'PFE', 'MSFT', 'GOOG', 'WFC', 'UBER', 'META', 'AVGO', 'WMT',\n",
    "    'XOM', 'SMCI', 'KVUE', 'VZ', 'CSCO', 'CMCSA', 'C', 'NCLH', 'MU', 'OXY'\n",
    "]\n",
    "\n",
    "# Retrieve stock data\n",
    "df = yf.download(sp500_tickers, start=start_date, end=end_date)\n",
    "sp500 = df['Close'].dropna(how='all', axis=1)"
   ]
  },
  {
   "cell_type": "code",
   "execution_count": null,
   "metadata": {},
   "outputs": [],
   "source": [
    "# Momentum calculation parameters\n",
    "time_period = 1008  # 4 years (252 days/year)\n",
    "lag = 20  # 1 month\n",
    "\n",
    "def calculate_momentum_factors(how_many_days_back=0):\n",
    "    start_time = how_many_days_back + time_period + lag\n",
    "    most_current_time = how_many_days_back + lag\n",
    "\n",
    "    lagged_closed_price = sp500[-start_time: -most_current_time]\n",
    "    rolling_mean_price = lagged_closed_price.rolling(window=time_period - 251).mean().dropna(how='all')\n",
    "\n",
    "    # 52-week trend\n",
    "    slope_info = pd.DataFrame(index=sp500.columns)\n",
    "    for i in range(1, lag + 1):\n",
    "        slope_info[i] = rolling_mean_price.apply(\n",
    "            lambda x: np.polyfit(\n",
    "                np.arange(len(x[-i - 252: -i])),\n",
    "                x[-i - 252: -i], 1\n",
    "            )[0] if x[-i - 252: -i].notna().all() else np.nan\n",
    "        )\n",
    "    _52_week_trend = slope_info.mean(axis=1)\n",
    "\n",
    "    # % above 260-day low\n",
    "    percent_above_260 = ((lagged_closed_price - lagged_closed_price.rolling(window=260).min())\n",
    "                         / lagged_closed_price.rolling(window=260).min() * 100).dropna(how='all').mean()\n",
    "\n",
    "    # 4/52-week oscillator\n",
    "    oscillator = ((lagged_closed_price.rolling(window=4*5).mean()\n",
    "                   - lagged_closed_price.rolling(window=52*5).mean())\n",
    "                  / lagged_closed_price.rolling(window=52*5).mean() * 100).dropna(how='all').mean()\n",
    "\n",
    "    # 39-week return\n",
    "    returns_39w = lagged_closed_price.pct_change(periods=39 * 5).dropna(how='all').mean()\n",
    "\n",
    "    # Create DataFrame\n",
    "    new_table = pd.DataFrame(index=sp500.columns)\n",
    "    new_table['Slope 52 Week Trend-Line'] = _52_week_trend\n",
    "    new_table['Percent above 260 Day Low'] = percent_above_260\n",
    "    new_table['4/52 Week Oscillator'] = oscillator\n",
    "    new_table['39_Week_Return'] = returns_39w\n",
    "\n",
    "    return new_table\n",
    "\n",
    "def calculate_z_scores(x):\n",
    "    z_scores = (x - x.mean()) / x.std()\n",
    "    z_scores = z_scores.sum(axis=1)\n",
    "    return z_scores.sort_values(ascending=False)\n",
    "\n",
    "def get_long_basket():\n",
    "    momentum_factors = calculate_momentum_factors(0)\n",
    "    long_basket = calculate_z_scores(momentum_factors)[:10]\n",
    "    return long_basket\n",
    "\n",
    "def monte_carlo_simulation(tickers, num_portfolios):\n",
    "    \"\"\"Run Monte Carlo simulation on long basket\"\"\"\n",
    "    try:\n",
    "        prices = sp500[tickers]\n",
    "        returns = prices.pct_change().dropna()\n",
    "        \n",
    "        # Portfolio metrics calculation\n",
    "        expected_returns = returns.mean() * 252\n",
    "        cov_matrix = returns.cov() * 252\n",
    "        \n",
    "        results = np.zeros((3, num_portfolios))\n",
    "        weights_record = []\n",
    "        \n",
    "        for i in range(num_portfolios):\n",
    "            weights = np.random.random(len(tickers))\n",
    "            weights /= np.sum(weights)  # Normalize to sum to 1.0\n",
    "            \n",
    "            portfolio_return = np.dot(weights, expected_returns)\n",
    "            portfolio_volatility = np.sqrt(weights.T @ cov_matrix @ weights)\n",
    "            sharpe_ratio = portfolio_return / portfolio_volatility\n",
    "            \n",
    "            results[0,i] = portfolio_return\n",
    "            results[1,i] = portfolio_volatility \n",
    "            results[2,i] = sharpe_ratio\n",
    "            weights_record.append(weights)\n",
    "            \n",
    "        max_sharpe_idx = np.argmax(results[2])\n",
    "        optimal_weights = weights_record[max_sharpe_idx]\n",
    "        \n",
    "        return {\n",
    "            'weights': optimal_weights,\n",
    "            'return': results[0,max_sharpe_idx],\n",
    "            'volatility': results[1,max_sharpe_idx],\n",
    "            'sharpe': results[2,max_sharpe_idx]\n",
    "        }\n",
    "        \n",
    "    except Exception as e:\n",
    "        print(f\"Monte Carlo error: {str(e)}\")\n",
    "        return None"
   ]
  },
  {
   "cell_type": "code",
   "execution_count": 31,
   "metadata": {},
   "outputs": [
    {
     "data": {
      "text/plain": [
       "Index(['SMCI', 'NVDA', 'META', 'AVGO', 'PLTR', 'MSFT', 'XOM', 'OXY', 'AMD',\n",
       "       'UBER'],\n",
       "      dtype='object', name='Ticker')"
      ]
     },
     "execution_count": 31,
     "metadata": {},
     "output_type": "execute_result"
    }
   ],
   "source": [
    "get_long_basket().index"
   ]
  },
  {
   "cell_type": "code",
   "execution_count": 32,
   "metadata": {},
   "outputs": [
    {
     "data": {
      "text/plain": [
       "{'weights': array([0.13578749, 0.08414286, 0.13398414, 0.14316845, 0.10593301,\n",
       "        0.03411061, 0.21237672, 0.10365246, 0.04064747, 0.00619678]),\n",
       " 'return': np.float64(0.4335858652009008),\n",
       " 'volatility': np.float64(0.30078419969098),\n",
       " 'sharpe': np.float64(1.4415180905325435)}"
      ]
     },
     "execution_count": 32,
     "metadata": {},
     "output_type": "execute_result"
    }
   ],
   "source": [
    "monte_carlo_simulation(get_long_basket().index, 100 )"
   ]
  },
  {
   "cell_type": "code",
   "execution_count": null,
   "metadata": {},
   "outputs": [
    {
     "name": "stdout",
     "output_type": "stream",
     "text": [
      "{'longBasket': [{'ticker': 'SMCI', 'score': 12.299453322171093}, {'ticker': 'NVDA', 'score': 7.823662281491212}, {'ticker': 'META', 'score': 4.940567041733266}, {'ticker': 'AVGO', 'score': 4.178966564892033}, {'ticker': 'PLTR', 'score': 2.6698930350366235}, {'ticker': 'MSFT', 'score': 1.712118476558391}, {'ticker': 'XOM', 'score': 0.9521443360383756}, {'ticker': 'OXY', 'score': 0.7490603040341255}, {'ticker': 'AMD', 'score': 0.41387305089994597}, {'ticker': 'UBER', 'score': 0.35519980105281723}], 'optimizedWeights': [{'ticker': 'SMCI', 'weight': 0.11547483346912152}, {'ticker': 'NVDA', 'weight': 0.15655584330470376}, {'ticker': 'META', 'weight': 0.028492101999912717}, {'ticker': 'AVGO', 'weight': 0.23805952781123416}, {'ticker': 'PLTR', 'weight': 0.05771176674147269}, {'ticker': 'MSFT', 'weight': 0.02916342493018791}, {'ticker': 'XOM', 'weight': 0.2570961280153216}, {'ticker': 'OXY', 'weight': 0.09338974569110535}, {'ticker': 'AMD', 'weight': 0.002818073619023706}, {'ticker': 'UBER', 'weight': 0.02123855441791658}], 'portfolioMetrics': {'expectedReturn': 0.4520402871209334, 'volatility': 0.2949371685234226, 'sharpeRatio': 1.5326663959786213}}\n"
     ]
    }
   ],
   "source": [
    "def momentum():\n",
    "    try:\n",
    "\n",
    "        mc_result = monte_carlo_simulation(get_long_basket().index, 100)\n",
    "        \n",
    "        if mc_result:\n",
    "            optimized_weights = [\n",
    "                {\"ticker\": t, \"weight\": float(w)} \n",
    "                for t, w in zip(get_long_basket().index, mc_result['weights'])\n",
    "            ]\n",
    "            metrics = {\n",
    "                \"expectedReturn\": float(mc_result['return']),\n",
    "                \"volatility\": float(mc_result['volatility']),\n",
    "                \"sharpeRatio\": float(mc_result['sharpe'])\n",
    "            }\n",
    "        else:\n",
    "            optimized_weights = []\n",
    "            metrics = {\n",
    "                \"expectedReturn\": 0,\n",
    "                \"volatility\": 0,\n",
    "                \"sharpeRatio\": 0\n",
    "            }\n",
    "        \n",
    "        return {  # Return a dictionary instead of using jsonify()\n",
    "            \"longBasket\": get_long_basket().index,\n",
    "            \"optimizedWeights\": optimized_weights,\n",
    "            \"portfolioMetrics\": metrics\n",
    "        }\n",
    "        \n",
    "    except Exception as e:\n",
    "        print(f\"API error: {str(e)}\")\n",
    "        return {\"error\": \"Internal server error\"}\n",
    "\n",
    "# Now run in Jupyter Notebook:\n",
    "result = momentum()\n",
    "print(result)  # Print output in readable format\n"
   ]
  },
  {
   "cell_type": "code",
   "execution_count": 24,
   "metadata": {},
   "outputs": [
    {
     "name": "stdout",
     "output_type": "stream",
     "text": [
      "API error: Working outside of application context.\n",
      "\n",
      "This typically means that you attempted to use functionality that needed\n",
      "the current application. To solve this, set up an application context\n",
      "with app.app_context(). See the documentation for more information.\n"
     ]
    },
    {
     "ename": "RuntimeError",
     "evalue": "Working outside of application context.\n\nThis typically means that you attempted to use functionality that needed\nthe current application. To solve this, set up an application context\nwith app.app_context(). See the documentation for more information.",
     "output_type": "error",
     "traceback": [
      "\u001b[1;31m---------------------------------------------------------------------------\u001b[0m",
      "\u001b[1;31mRuntimeError\u001b[0m                              Traceback (most recent call last)",
      "Cell \u001b[1;32mIn[24], line 1\u001b[0m\n\u001b[1;32m----> 1\u001b[0m \u001b[43mmomentum\u001b[49m\u001b[43m(\u001b[49m\u001b[43m)\u001b[49m\n",
      "Cell \u001b[1;32mIn[23], line 35\u001b[0m, in \u001b[0;36mmomentum\u001b[1;34m()\u001b[0m\n\u001b[0;32m     33\u001b[0m \u001b[38;5;28;01mexcept\u001b[39;00m \u001b[38;5;167;01mException\u001b[39;00m \u001b[38;5;28;01mas\u001b[39;00m e:\n\u001b[0;32m     34\u001b[0m     \u001b[38;5;28mprint\u001b[39m(\u001b[38;5;124mf\u001b[39m\u001b[38;5;124m\"\u001b[39m\u001b[38;5;124mAPI error: \u001b[39m\u001b[38;5;132;01m{\u001b[39;00m\u001b[38;5;28mstr\u001b[39m(e)\u001b[38;5;132;01m}\u001b[39;00m\u001b[38;5;124m\"\u001b[39m)\n\u001b[1;32m---> 35\u001b[0m     response \u001b[38;5;241m=\u001b[39m \u001b[43mjsonify\u001b[49m\u001b[43m(\u001b[49m\u001b[43m{\u001b[49m\u001b[38;5;124;43m\"\u001b[39;49m\u001b[38;5;124;43merror\u001b[39;49m\u001b[38;5;124;43m\"\u001b[39;49m\u001b[43m:\u001b[49m\u001b[43m \u001b[49m\u001b[38;5;124;43m\"\u001b[39;49m\u001b[38;5;124;43mInternal server error\u001b[39;49m\u001b[38;5;124;43m\"\u001b[39;49m\u001b[43m}\u001b[49m\u001b[43m)\u001b[49m\n\u001b[0;32m     36\u001b[0m     response\u001b[38;5;241m.\u001b[39mstatus_code \u001b[38;5;241m=\u001b[39m \u001b[38;5;241m500\u001b[39m\n\u001b[0;32m     39\u001b[0m response\u001b[38;5;241m.\u001b[39mheaders\u001b[38;5;241m.\u001b[39madd(\u001b[38;5;124m\"\u001b[39m\u001b[38;5;124mAccess-Control-Allow-Origin\u001b[39m\u001b[38;5;124m\"\u001b[39m, \u001b[38;5;124m\"\u001b[39m\u001b[38;5;124m*\u001b[39m\u001b[38;5;124m\"\u001b[39m)\n",
      "File \u001b[1;32m~\\AppData\\Local\\Packages\\PythonSoftwareFoundation.Python.3.11_qbz5n2kfra8p0\\LocalCache\\local-packages\\Python311\\site-packages\\flask\\json\\__init__.py:170\u001b[0m, in \u001b[0;36mjsonify\u001b[1;34m(*args, **kwargs)\u001b[0m\n\u001b[0;32m    138\u001b[0m \u001b[38;5;28;01mdef\u001b[39;00m \u001b[38;5;21mjsonify\u001b[39m(\u001b[38;5;241m*\u001b[39margs: t\u001b[38;5;241m.\u001b[39mAny, \u001b[38;5;241m*\u001b[39m\u001b[38;5;241m*\u001b[39mkwargs: t\u001b[38;5;241m.\u001b[39mAny) \u001b[38;5;241m-\u001b[39m\u001b[38;5;241m>\u001b[39m Response:\n\u001b[0;32m    139\u001b[0m \u001b[38;5;250m    \u001b[39m\u001b[38;5;124;03m\"\"\"Serialize the given arguments as JSON, and return a\u001b[39;00m\n\u001b[0;32m    140\u001b[0m \u001b[38;5;124;03m    :class:`~flask.Response` object with the ``application/json``\u001b[39;00m\n\u001b[0;32m    141\u001b[0m \u001b[38;5;124;03m    mimetype. A dict or list returned from a view will be converted to a\u001b[39;00m\n\u001b[1;32m   (...)\u001b[0m\n\u001b[0;32m    168\u001b[0m \u001b[38;5;124;03m    .. versionadded:: 0.2\u001b[39;00m\n\u001b[0;32m    169\u001b[0m \u001b[38;5;124;03m    \"\"\"\u001b[39;00m\n\u001b[1;32m--> 170\u001b[0m     \u001b[38;5;28;01mreturn\u001b[39;00m \u001b[43mcurrent_app\u001b[49m\u001b[38;5;241;43m.\u001b[39;49m\u001b[43mjson\u001b[49m\u001b[38;5;241m.\u001b[39mresponse(\u001b[38;5;241m*\u001b[39margs, \u001b[38;5;241m*\u001b[39m\u001b[38;5;241m*\u001b[39mkwargs)\n",
      "File \u001b[1;32m~\\AppData\\Local\\Packages\\PythonSoftwareFoundation.Python.3.11_qbz5n2kfra8p0\\LocalCache\\local-packages\\Python311\\site-packages\\werkzeug\\local.py:318\u001b[0m, in \u001b[0;36m_ProxyLookup.__get__\u001b[1;34m(self, instance, owner)\u001b[0m\n\u001b[0;32m    315\u001b[0m     \u001b[38;5;28;01mreturn\u001b[39;00m \u001b[38;5;28mself\u001b[39m\n\u001b[0;32m    317\u001b[0m \u001b[38;5;28;01mtry\u001b[39;00m:\n\u001b[1;32m--> 318\u001b[0m     obj \u001b[38;5;241m=\u001b[39m \u001b[43minstance\u001b[49m\u001b[38;5;241;43m.\u001b[39;49m\u001b[43m_get_current_object\u001b[49m\u001b[43m(\u001b[49m\u001b[43m)\u001b[49m\n\u001b[0;32m    319\u001b[0m \u001b[38;5;28;01mexcept\u001b[39;00m \u001b[38;5;167;01mRuntimeError\u001b[39;00m:\n\u001b[0;32m    320\u001b[0m     \u001b[38;5;28;01mif\u001b[39;00m \u001b[38;5;28mself\u001b[39m\u001b[38;5;241m.\u001b[39mfallback \u001b[38;5;129;01mis\u001b[39;00m \u001b[38;5;28;01mNone\u001b[39;00m:\n",
      "File \u001b[1;32m~\\AppData\\Local\\Packages\\PythonSoftwareFoundation.Python.3.11_qbz5n2kfra8p0\\LocalCache\\local-packages\\Python311\\site-packages\\werkzeug\\local.py:519\u001b[0m, in \u001b[0;36mLocalProxy.__init__.<locals>._get_current_object\u001b[1;34m()\u001b[0m\n\u001b[0;32m    517\u001b[0m     obj \u001b[38;5;241m=\u001b[39m local\u001b[38;5;241m.\u001b[39mget()\n\u001b[0;32m    518\u001b[0m \u001b[38;5;28;01mexcept\u001b[39;00m \u001b[38;5;167;01mLookupError\u001b[39;00m:\n\u001b[1;32m--> 519\u001b[0m     \u001b[38;5;28;01mraise\u001b[39;00m \u001b[38;5;167;01mRuntimeError\u001b[39;00m(unbound_message) \u001b[38;5;28;01mfrom\u001b[39;00m \u001b[38;5;28;01mNone\u001b[39;00m\n\u001b[0;32m    521\u001b[0m \u001b[38;5;28;01mreturn\u001b[39;00m get_name(obj)\n",
      "\u001b[1;31mRuntimeError\u001b[0m: Working outside of application context.\n\nThis typically means that you attempted to use functionality that needed\nthe current application. To solve this, set up an application context\nwith app.app_context(). See the documentation for more information."
     ]
    }
   ],
   "source": [
    "momentum()"
   ]
  },
  {
   "cell_type": "code",
   "execution_count": null,
   "metadata": {},
   "outputs": [],
   "source": []
  }
 ],
 "metadata": {
  "kernelspec": {
   "display_name": "Python 3",
   "language": "python",
   "name": "python3"
  },
  "language_info": {
   "codemirror_mode": {
    "name": "ipython",
    "version": 3
   },
   "file_extension": ".py",
   "mimetype": "text/x-python",
   "name": "python",
   "nbconvert_exporter": "python",
   "pygments_lexer": "ipython3",
   "version": "3.11.9"
  }
 },
 "nbformat": 4,
 "nbformat_minor": 2
}
